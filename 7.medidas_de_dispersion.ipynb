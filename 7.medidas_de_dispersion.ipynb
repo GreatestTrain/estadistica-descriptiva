{
 "cells": [
  {
   "cell_type": "markdown",
   "metadata": {},
   "source": [
    "## Medidas de disperción\n",
    "-----------"
   ]
  },
  {
   "cell_type": "markdown",
   "metadata": {},
   "source": [
    "+ Medidas:\n",
    "    - Rango\n",
    "    - Rango Intercuartil (IQR)\n",
    "    - Desviación estándar"
   ]
  },
  {
   "cell_type": "markdown",
   "metadata": {},
   "source": [
    "| $$ IQR = Q_3 - Q_2 $$ | $$ IQR = Q_2 - Q_1 $$ |\n",
    "|-|-|"
   ]
  },
  {
   "cell_type": "markdown",
   "metadata": {},
   "source": [
    "| | Desviación típica o variación | Desviación estándar |\n",
    "|-|-|-|\n",
    "| Población | $$ σ = \\sqrt{\\frac{\\sum_{i=1}^{N}{\\left(x_i-μ\\right)^2}}{N}} $$ | $$ σ^2 = \\frac{\\sum_{i=1}^{N}{\\left(x_i-μ\\right)^2}}{N} $$ |\n",
    "| Muestra | $$ σ = \\sqrt{\\frac{\\sum_{i=1}^{n}{\\left(x_i-\\bar{x}\\right)^2}}{n-1}} $$ | $$ σ^2 = \\frac{\\sum_{i=1}^{n}{\\left(x_i\\bar{x}\\right)^2}}{n-1} $$ |"
   ]
  },
  {
   "cell_type": "markdown",
   "metadata": {},
   "source": [
    "+ _Donde:_\n",
    "    - _μ: media poblacional_\n",
    "    - _x: media muestral_\n",
    "    - _N: tamaño poblacional_\n",
    "    - _n: tamaño muestral_"
   ]
  },
  {
   "cell_type": "markdown",
   "metadata": {},
   "source": [
    "Se utiliza un coeficiente de variabilidad para estimar que tan variable es un conjunto de datos.\n",
    "$$ \\frac{σ}{\\bar{x}} $$"
   ]
  },
  {
   "cell_type": "markdown",
   "metadata": {},
   "source": [
    "### Distribuciones\n",
    "-------"
   ]
  },
  {
   "cell_type": "markdown",
   "metadata": {},
   "source": [
    "Tienen forma de campana llamada campana de **_gauss_**."
   ]
  },
  {
   "cell_type": "markdown",
   "metadata": {},
   "source": [
    "+ Distribución normal:\n",
    "    \n",
    "    Los cuartiles 1 y 3 tienen la misma distancia respecto al cuartil 2.\n",
    "    \n",
    "    Tiene casi el 99.72% en un rango de 3σ desde la media poblacional.\n",
    "    Los datos que están fuera son considerados anómalos.\n",
    "     - Método de detección de límites de _**outliers**_.\n",
    "\n",
    "        - min: \n",
    "        $$ Q_1-1.5*IQR $$\n",
    "        - max:\n",
    "        $$ Q_3+1.5*IQR $$"
   ]
  },
  {
   "cell_type": "markdown",
   "metadata": {},
   "source": [
    "+ Distribución atípica:\n",
    "    \n",
    "    Los cuartiles 1 y 3 tienen distintas distancias respecto al cuartil 2.\n",
    "    \n",
    "    Tiene casi el 99.72% en un rango de 3σ desde la media poblacional.\n",
    "    Los datos que están fuera son considerados anómalos.\n",
    "     - Método de detección de límites de _**outliers**_.\n",
    "\n",
    "        - min: \n",
    "        $$ Q_1-1.5 * f(IQR) $$\n",
    "        - max:\n",
    "        $$ Q_3+1.5 *g(IQR) $$"
   ]
  }
 ],
 "metadata": {
  "language_info": {
   "name": "python"
  },
  "orig_nbformat": 4
 },
 "nbformat": 4,
 "nbformat_minor": 2
}
