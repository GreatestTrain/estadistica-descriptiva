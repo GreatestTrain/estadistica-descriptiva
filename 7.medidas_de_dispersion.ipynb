{
 "cells": [
  {
   "cell_type": "markdown",
   "metadata": {},
   "source": [
    "## Medidas de disperción\n",
    "-----------"
   ]
  },
  {
   "cell_type": "markdown",
   "metadata": {},
   "source": [
    "+ Medidas:\n",
    "    - Rango\n",
    "    - Rango Intercuartil\n",
    "    - Desviación estándar"
   ]
  },
  {
   "cell_type": "markdown",
   "metadata": {},
   "source": [
    "| | Desviación típica o varición | Desviación estándar |\n",
    "|-|-|-|\n",
    "| Población | $$ σ = \\sqrt{\\frac{\\sum_{i=1}^{N}{\\left(x_i-μ\\right)^2}}{N}} $$ | $$ σ^2 = \\frac{\\sum_{i=1}^{N}{\\left(x_i-μ\\right)^2}}{N} $$ |\n",
    "| Muestra | $$ σ = \\sqrt{\\frac{\\sum_{i=1}^{n}{\\left(x_i-\\bar{x}\\right)^2}}{n-1}} $$ | $$ σ^2 = \\frac{\\sum_{i=1}^{n}{\\left(x_i\\bar{x}\\right)^2}}{n-1} $$ |"
   ]
  },
  {
   "cell_type": "markdown",
   "metadata": {},
   "source": [
    "+ _Donde:_\n",
    "    - _μ: media poblacional_\n",
    "    - _x: media muestral_\n",
    "    - _N: tamaño poblacional_\n",
    "    - _n: tamaño muestral_"
   ]
  },
  {
   "cell_type": "markdown",
   "metadata": {},
   "source": [
    "Se utiliza un coeficiente de variabilidad para estimar que tan variable es un conjunto de datos.\n",
    "$$ \\frac{σ}{\\bar{x}} $$"
   ]
  }
 ],
 "metadata": {
  "language_info": {
   "name": "python"
  },
  "orig_nbformat": 4
 },
 "nbformat": 4,
 "nbformat_minor": 2
}
