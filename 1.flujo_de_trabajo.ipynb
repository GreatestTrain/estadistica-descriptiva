{
 "cells": [
  {
   "cell_type": "markdown",
   "metadata": {},
   "source": [
    "## Flujo de trabajo en *data science*\n",
    "---------"
   ]
  },
  {
   "cell_type": "markdown",
   "metadata": {},
   "source": [
    "Tipos de datos, *pipeline* de procesamiento.\n",
    "- Ingesta de datos\n",
    "- Validación"
   ]
  },
  {
   "cell_type": "markdown",
   "metadata": {},
   "source": [
    "Análisis exploratorio, estadistica descriptiva, correlaciones, reducciones de datos.\n",
    "- Preparación\n",
    "- Entrenamiento modelo"
   ]
  },
  {
   "cell_type": "markdown",
   "metadata": {},
   "source": [
    "Probabilidad e inferencia\n",
    "- Evaluacion modelo\n",
    "- Test de hipotesis:\n",
    "  - Modelo de producción \n",
    "  - Interacción con usuario final"
   ]
  }
 ],
 "metadata": {
  "interpreter": {
   "hash": "1d91b49e51984cf2d34b0ef8b1e27996870490b739ed7a0f3fc2279079af7987"
  },
  "kernelspec": {
   "display_name": "C++11",
   "language": "C++11",
   "name": "python3102jvsc74a57bd01d91b49e51984cf2d34b0ef8b1e27996870490b739ed7a0f3fc2279079af7987"
  },
  "language_info": {
   "codemirror_mode": "text/x-c++src",
   "file_extension": ".cpp",
   "mimetype": "text/x-c++src",
   "name": "c++",
   "version": "11"
  },
  "orig_nbformat": 4
 },
 "nbformat": 4,
 "nbformat_minor": 2
}
