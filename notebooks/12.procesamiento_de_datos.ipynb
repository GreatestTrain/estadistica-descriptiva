{
 "cells": [
  {
   "cell_type": "markdown",
   "metadata": {},
   "source": [
    "**Procesamiento de datos con _python_**\n",
    "-\n",
    "---"
   ]
  },
  {
   "cell_type": "code",
   "execution_count": 1,
   "metadata": {},
   "outputs": [],
   "source": [
    "import timeit\n",
    "import numpy as np\n",
    "import pandas as pd\n",
    "import matplotlib.pyplot as plt\n",
    "from sklearn import datasets, linear_model, preprocessing"
   ]
  },
  {
   "cell_type": "markdown",
   "metadata": {},
   "source": [
    "#### **Transformaciones lineales**"
   ]
  },
  {
   "cell_type": "code",
   "execution_count": 5,
   "metadata": {},
   "outputs": [],
   "source": [
    "X, y = datasets.load_diabetes(return_X_y=True)\n",
    "raw = X[:,None,2]\n",
    "# raw.sample(2)"
   ]
  },
  {
   "cell_type": "code",
   "execution_count": 29,
   "metadata": {},
   "outputs": [
    {
     "data": {
      "image/png": "[encoded data removed]",
      "text/plain": [
       "<Figure size 432x288 with 2 Axes>"
      ]
     },
     "metadata": {
      "needs_background": "light"
     },
     "output_type": "display_data"
    }
   ],
   "source": [
    "# reglas de escalamiento\n",
    "max_raw = max(raw)\n",
    "min_raw = min(raw)\n",
    "scaled = (2*raw - max_raw-min_raw)/(max_raw-min_raw)\n",
    "fig, axs = plt.subplots(2, 1, sharex=True)\n",
    "# print(axs)\n",
    "axs[0].hist(raw)\n",
    "axs[1].hist(scaled)\n",
    "plt.show()"
   ]
  },
  {
   "cell_type": "code",
   "execution_count": 20,
   "metadata": {},
   "outputs": [],
   "source": [
    "def train_raw():\n",
    "    linear_model.LinearRegression().fit(raw, y)\n",
    "def train_scaled():\n",
    "    linear_model.LinearRegression().fit(scaled, y)"
   ]
  },
  {
   "cell_type": "code",
   "execution_count": 46,
   "metadata": {},
   "outputs": [
    {
     "name": "stdout",
     "output_type": "stream",
     "text": [
      "train raw:\t0.03844960000060382\n",
      "train scaled:\t0.03514489999724901\n"
     ]
    }
   ],
   "source": [
    "raw_time = timeit.timeit(train_raw, number = 100)\n",
    "scaled_time = timeit.timeit(train_scaled, number=100)\n",
    "print('train raw:\\t{}'.format(raw_time))\n",
    "print('train scaled:\\t{}'.format(scaled_time))"
   ]
  },
  {
   "cell_type": "markdown",
   "metadata": {},
   "source": [
    "+ _max-min_: mejor para datos uniformemente distribuidos\n",
    "+ _z-score_: mejor para datos distribuidos 'normalmente'"
   ]
  },
  {
   "cell_type": "code",
   "execution_count": 18,
   "metadata": {},
   "outputs": [
    {
     "data": {
      "image/png": "[encoded data removed]",
      "text/plain": [
       "<Figure size 432x288 with 2 Axes>"
      ]
     },
     "metadata": {
      "needs_background": "light"
     },
     "output_type": "display_data"
    }
   ],
   "source": [
    "## z-score\n",
    "mu = np.mean(raw)\n",
    "std = np.std(raw)\n",
    "var = np.var(raw)\n",
    "# mu, std, var\n",
    "z_score = (raw - mu)/std\n",
    "\n",
    "fig1, ax1 = plt.subplots(2, 1, sharex=True)\n",
    "ax1[0].hist(raw)\n",
    "ax1[1].hist(z_score)\n",
    "plt.show()\n",
    "def train_zscore():\n",
    "    linear_model.LinearRegression().fit(z_score, y)"
   ]
  },
  {
   "cell_type": "code",
   "execution_count": 23,
   "metadata": {},
   "outputs": [
    {
     "name": "stdout",
     "output_type": "stream",
     "text": [
      "train raw:\t0.03766949999771896\n",
      "train z-score:\t0.03549939999720664\n"
     ]
    }
   ],
   "source": [
    "raw_time = timeit.timeit(train_raw, number = 100)\n",
    "z_score_timed = timeit.timeit(train_zscore, number = 100)\n",
    "print('train raw:\\t{}'.format(raw_time))\n",
    "print('train z-score:\\t{}'.format(z_score_timed))"
   ]
  },
  {
   "cell_type": "markdown",
   "metadata": {},
   "source": [
    "#### **Transformaciones no lineales**"
   ]
  },
  {
   "cell_type": "code",
   "execution_count": 31,
   "metadata": {},
   "outputs": [],
   "source": [
    "df = pd.read_csv('./resources/cars.csv')"
   ]
  },
  {
   "cell_type": "code",
   "execution_count": 4,
   "metadata": {},
   "outputs": [
    {
     "data": {
      "text/plain": [
       "<AxesSubplot:>"
      ]
     },
     "execution_count": 4,
     "metadata": {},
     "output_type": "execute_result"
    },
    {
     "data": {
      "image/png": "[encoded data removed]",
      "text/plain": [
       "<Figure size 432x288 with 1 Axes>"
      ]
     },
     "metadata": {
      "needs_background": "light"
     },
     "output_type": "display_data"
    }
   ],
   "source": [
    "df.price_usd.hist()\n",
    "### Sesgado"
   ]
  },
  {
   "cell_type": "code",
   "execution_count": 33,
   "metadata": {},
   "outputs": [
    {
     "data": {
      "text/plain": [
       "<AxesSubplot:>"
      ]
     },
     "execution_count": 33,
     "metadata": {},
     "output_type": "execute_result"
    },
    {
     "data": {
      "image/png": "[encoded data removed]",
      "text/plain": [
       "<Figure size 432x288 with 1 Axes>"
      ]
     },
     "metadata": {
      "needs_background": "light"
     },
     "output_type": "display_data"
    }
   ],
   "source": [
    "p = 10000\n",
    "df.price_usd.apply(lambda x: np.tanh(x/p)).hist()"
   ]
  },
  {
   "cell_type": "markdown",
   "metadata": {},
   "source": [
    "**Transformando con _sklearn_**\n"
   ]
  },
  {
   "cell_type": "markdown",
   "metadata": {},
   "source": [
    "[Documentacion](https://scikit-learn.org/stable/modules/preprocessing.html)"
   ]
  },
  {
   "cell_type": "code",
   "execution_count": 32,
   "metadata": {},
   "outputs": [
    {
     "data": {
      "text/plain": [
       "(array([20218., 10523.,  4432.,  1821.,   694.,   377.,   168.,   177.,\n",
       "           68.,    53.]),\n",
       " array([1.00000e+00, 5.00090e+03, 1.00008e+04, 1.50007e+04, 2.00006e+04,\n",
       "        2.50005e+04, 3.00004e+04, 3.50003e+04, 4.00002e+04, 4.50001e+04,\n",
       "        5.00000e+04]),\n",
       " <BarContainer object of 10 artists>)"
      ]
     },
     "execution_count": 32,
     "metadata": {},
     "output_type": "execute_result"
    },
    {
     "data": {
      "image/png": "[encoded data removed]",
      "text/plain": [
       "<Figure size 432x288 with 2 Axes>"
      ]
     },
     "metadata": {
      "needs_background": "light"
     },
     "output_type": "display_data"
    }
   ],
   "source": [
    "fig, ax = plt.subplots(2,1, sharex=False)\n",
    "pt = preprocessing.PowerTransformer(method='box-cox', standardize=True)\n",
    "ad = pt.fit_transform(df[['price_usd']].values)\n",
    "ad\n",
    "ax[0].hist(ad)\n",
    "ax[1].hist(df.price_usd, bins=10)"
   ]
  },
  {
   "cell_type": "code",
   "execution_count": 23,
   "metadata": {},
   "outputs": [],
   "source": [
    "from sklearn.preprocessing import PowerTransformer\n",
    "from sklearn.preprocessing import QuantileTransformer\n",
    "from sklearn.model_selection import train_test_split"
   ]
  },
  {
   "cell_type": "code",
   "execution_count": 37,
   "metadata": {},
   "outputs": [
    {
     "data": {
      "text/plain": [
       "(array([7482., 6870., 5763., 4240., 3568., 2795., 1838., 1465., 1144.,\n",
       "         784.,  592.,  444.,  277.,  239.,  192.,  149.,  137.,   84.,\n",
       "          52.,   56.,   68.,   67.,   50.,   57.,   26.,   20.,   20.,\n",
       "          14.,   24.,   14.]),\n",
       " array([8.25599122e-03, 1.68222242e+03, 3.36443658e+03, 5.04665074e+03,\n",
       "        6.72886490e+03, 8.41107907e+03, 1.00932932e+04, 1.17755074e+04,\n",
       "        1.34577216e+04, 1.51399357e+04, 1.68221499e+04, 1.85043640e+04,\n",
       "        2.01865782e+04, 2.18687924e+04, 2.35510065e+04, 2.52332207e+04,\n",
       "        2.69154348e+04, 2.85976490e+04, 3.02798632e+04, 3.19620773e+04,\n",
       "        3.36442915e+04, 3.53265057e+04, 3.70087198e+04, 3.86909340e+04,\n",
       "        4.03731481e+04, 4.20553623e+04, 4.37375765e+04, 4.54197906e+04,\n",
       "        4.71020048e+04, 4.87842190e+04, 5.04664331e+04]),\n",
       " <BarContainer object of 30 artists>)"
      ]
     },
     "execution_count": 37,
     "metadata": {},
     "output_type": "execute_result"
    },
    {
     "data": {
      "image/png": "[encoded data removed]",
      "text/plain": [
       "<Figure size 432x288 with 1 Axes>"
      ]
     },
     "metadata": {
      "needs_background": "light"
     },
     "output_type": "display_data"
    }
   ],
   "source": [
    "# df[['price_usd']].values\n",
    "rng = np.random.RandomState(304)\n",
    "bc = PowerTransformer(method=\"box-cox\")\n",
    "yj = PowerTransformer(method=\"yeo-johnson\")\n",
    "# n_quantiles is set to the training set size rather than the default value\n",
    "# to avoid a warning being raised by this example\n",
    "\n",
    "X_chisq = rng.chisquare(df=df[['price_usd']].values)\n",
    "\n",
    "fig, axes = plt.subplots()\n",
    "axes.hist(X_chisq, bins=30)"
   ]
  },
  {
   "cell_type": "code",
   "execution_count": null,
   "metadata": {},
   "outputs": [],
   "source": []
  }
 ],
 "metadata": {
  "interpreter": {
   "hash": "40045ba4287eb5f67feca55db0927d249762f6e31a023956f349261635c9fa11"
  },
  "kernelspec": {
   "display_name": "Python 3.10.2 ('ds')",
   "language": "python",
   "name": "python3"
  },
  "language_info": {
   "codemirror_mode": {
    "name": "ipython",
    "version": 3
   },
   "file_extension": ".py",
   "mimetype": "text/x-python",
   "name": "python",
   "nbconvert_exporter": "python",
   "pygments_lexer": "ipython3",
   "version": "3.10.2"
  },
  "orig_nbformat": 4
 },
 "nbformat": 4,
 "nbformat_minor": 2
}
