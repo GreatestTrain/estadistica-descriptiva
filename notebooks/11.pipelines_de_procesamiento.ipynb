{
 "cells": [
  {
   "cell_type": "markdown",
   "metadata": {},
   "source": [
    "**Escalamiento Lineal**\n",
    "-\n",
    "---"
   ]
  },
  {
   "cell_type": "markdown",
   "metadata": {},
   "source": [
    "* **¿Por qué usarlos?**\n",
    "\n",
    "    Modelos de _Machine Learning_ eficientes en el rango $[-1 , 1]$.\n",
    "<br></br>\n",
    "* **¿Qué tipos existen?**\n",
    "\n",
    "    _max-min_, _Clipping_, _Z-score_, _Wqinsorizing_, etc.\n",
    "<br></br>\n",
    "* **¿Cuando usarlos?**\n",
    "\n",
    "    Cuando los datos están simétricamente distribuidos."
   ]
  },
  {
   "cell_type": "markdown",
   "metadata": {},
   "source": [
    "#### **_min-max_**\n",
    "$$ X \\Rightarrow X_s$$\n",
    "$$ X_s=\\frac{2X-min-max}{max-min} $$"
   ]
  },
  {
   "cell_type": "markdown",
   "metadata": {},
   "source": [
    "#### **_clipping_**\n",
    "No es recomendable.\n",
    ">$X_s \\Longrightarrow 3.8 \\rightarrow 3.8$\n",
    "   \n",
    ">>>> $6.0 \\rightarrow 4.0$\n",
    "\n",
    ">>>> $1.0 \\rightarrow 2.0$"
   ]
  },
  {
   "cell_type": "markdown",
   "metadata": {},
   "source": [
    "#### **_Z-score_**"
   ]
  },
  {
   "cell_type": "markdown",
   "metadata": {},
   "source": [
    "\n",
    "$$ \\{X_1,...,X_n\\} \\Rightarrow µ, σ $$\n",
    "$$ X_s = \\frac{X - μ}{σ}$$"
   ]
  },
  {
   "cell_type": "markdown",
   "metadata": {},
   "source": [
    "**Transformación no lineal**\n",
    "-\n",
    "---"
   ]
  },
  {
   "cell_type": "markdown",
   "metadata": {},
   "source": [
    "* **¿Por qué usarlos?**\n",
    "\n",
    "    Datos fuertemente sesgados.\n",
    "<br></br>\n",
    "* **¿Qué tipos existen?**\n",
    "\n",
    "    Logaritmos, sigmoides, polinomiales, etc.\n",
    "<br></br>\n",
    "* **¿Cuando usarlos?**\n",
    "\n",
    "    Antes de escalamientos lineales."
   ]
  },
  {
   "cell_type": "markdown",
   "metadata": {},
   "source": [
    "$$ X_s = tanh\\left(\\frac{x}{a}\\right)$$\n",
    "$$ X_s = \\sqrt{x} $$"
   ]
  }
 ],
 "metadata": {
  "language_info": {
   "name": "python"
  },
  "orig_nbformat": 4
 },
 "nbformat": 4,
 "nbformat_minor": 2
}
