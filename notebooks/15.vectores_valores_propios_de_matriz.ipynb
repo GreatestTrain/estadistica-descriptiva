{
 "cells": [
  {
   "cell_type": "markdown",
   "metadata": {},
   "source": [
    "**Vectores y valores propios de una matriz**\n",
    "-\n",
    "---"
   ]
  },
  {
   "cell_type": "markdown",
   "metadata": {},
   "source": [
    "Cuando dos variables están altamente correlacionadas, quiere decir que aportan básicamente la misma información del problema y eso podría indicar que solo necesitamos una de ellas."
   ]
  },
  {
   "cell_type": "markdown",
   "metadata": {},
   "source": [
    "#### **Repaso de matrices**"
   ]
  },
  {
   "cell_type": "markdown",
   "metadata": {},
   "source": [
    "<p align='justify'>\n",
    "Las matrices son objetos matemáticos que tienen cierto número de filas y columnas (estos números son denominados dimensiones de la matriz). \n",
    "\n",
    "La transpuesta de una matriz es la operación en el que las filas cambian de lugar con las columnas y viceversa\n",
    "</p>\n",
    "\n"
   ]
  },
  {
   "cell_type": "markdown",
   "metadata": {},
   "source": [
    "<font size=3> $$ \\left[\\begin{matrix} \n",
    "4 & -3 \\\\\n",
    "1 & 2\n",
    "\\end{matrix}\\right]^T =\n",
    "\\left[\\begin{matrix}\n",
    "4 & 1 \\\\\n",
    "-3 & 2\n",
    "\\end{matrix}\\right] $$ </font>"
   ]
  },
  {
   "cell_type": "markdown",
   "metadata": {},
   "source": [
    "#### **Indexación en una matriz**"
   ]
  },
  {
   "cell_type": "markdown",
   "metadata": {},
   "source": [
    "<font size=3>$ A_{xy} $</font>"
   ]
  },
  {
   "cell_type": "markdown",
   "metadata": {},
   "source": [
    "En la matriz $A$ encontraremos dos elemntos de indexación $x$ y $y$. Donde $x$ representa las columnas y $y$ las filas."
   ]
  },
  {
   "cell_type": "markdown",
   "metadata": {},
   "source": [
    "#### **Multiplicación de matrices**"
   ]
  },
  {
   "cell_type": "code",
   "execution_count": 51,
   "metadata": {},
   "outputs": [],
   "source": [
    "import numpy as np\n",
    "from fractions import Fraction"
   ]
  },
  {
   "cell_type": "code",
   "execution_count": 4,
   "metadata": {},
   "outputs": [
    {
     "data": {
      "text/plain": [
       "(matrix([[ 2,  4],\n",
       "         [-1,  2]]),\n",
       " matrix([[ 3,  2],\n",
       "         [ 6, -8]]))"
      ]
     },
     "execution_count": 4,
     "metadata": {},
     "output_type": "execute_result"
    }
   ],
   "source": [
    "A = np.matrix([[2, 4], [-1,2]])\n",
    "B = np.matrix([[3, 2], [6,-8]])\n",
    "A, B"
   ]
  },
  {
   "cell_type": "code",
   "execution_count": 5,
   "metadata": {},
   "outputs": [
    {
     "data": {
      "text/plain": [
       "matrix([[ 30, -28],\n",
       "        [  9, -18]])"
      ]
     },
     "execution_count": 5,
     "metadata": {},
     "output_type": "execute_result"
    }
   ],
   "source": [
    "## Multiplicación\n",
    "np.matmul(A, B)"
   ]
  },
  {
   "cell_type": "markdown",
   "metadata": {},
   "source": [
    "#### **Inversa de una raíz**"
   ]
  },
  {
   "cell_type": "code",
   "execution_count": 8,
   "metadata": {},
   "outputs": [
    {
     "data": {
      "text/plain": [
       "matrix([[ 0.25 , -0.5  ],\n",
       "        [ 0.125,  0.25 ]])"
      ]
     },
     "execution_count": 8,
     "metadata": {},
     "output_type": "execute_result"
    }
   ],
   "source": [
    "## Usando A\n",
    "A_inv = np.linalg.inv(A)\n",
    "A_inv"
   ]
  },
  {
   "cell_type": "code",
   "execution_count": 9,
   "metadata": {},
   "outputs": [
    {
     "data": {
      "text/plain": [
       "matrix([[1., 0.],\n",
       "        [0., 1.]])"
      ]
     },
     "execution_count": 9,
     "metadata": {},
     "output_type": "execute_result"
    }
   ],
   "source": [
    "np.matmul(A, A_inv)"
   ]
  },
  {
   "cell_type": "markdown",
   "metadata": {},
   "source": [
    "#### **Vectores**"
   ]
  },
  {
   "cell_type": "markdown",
   "metadata": {},
   "source": [
    "Un vector es una matriz conformada por una sola columna, en la que cada fila representa la cantidad de dimensiones del vector."
   ]
  },
  {
   "cell_type": "markdown",
   "metadata": {},
   "source": [
    "Multiplicación de vectores:\n",
    "$$\n",
    "\\vec{a}·\\vec{v} = \\begin{matrix}[a_{11} & a_{12}]\\end{matrix}·\\left[\\begin{matrix}v_{11} \\\\ v_{21}\\end{matrix}\\right] = [c_{11}] = c_{11} = a_{11}v_{11} + a_{12}v_{21}\n",
    "$$"
   ]
  },
  {
   "cell_type": "markdown",
   "metadata": {},
   "source": [
    "#### **Vectores y valores propios de una matriz**"
   ]
  },
  {
   "cell_type": "markdown",
   "metadata": {},
   "source": [
    "En álgebra lineal existen ecuaciones en las que la incógnita es un vector, como en la siguiente ecuación."
   ]
  },
  {
   "cell_type": "markdown",
   "metadata": {},
   "source": [
    "$$\n",
    "A · \\vec{x} = \\lambda\\vec{x}\n",
    "$$"
   ]
  },
  {
   "cell_type": "markdown",
   "metadata": {},
   "source": [
    "Aquí $A$ es una matriz cuadrada y $\\vec{x}$ es un vector que desconocemos."
   ]
  },
  {
   "cell_type": "markdown",
   "metadata": {},
   "source": [
    "$$\n",
    "A=\\left[\\begin{matrix}1&2 \\\\ 1&0\\end{matrix}\\right]\n",
    "$$\n",
    "\n",
    "$$\n",
    "\\left[\\begin{matrix}1&2 \\\\ 1&0\\end{matrix}\\right]·\\left[\\begin{matrix}x\\\\y\\end{matrix}\\right] =  \\lambda\\left[\\begin{matrix}x\\\\y\\end{matrix}\\right]\n",
    "$$\n",
    "$$\n",
    "\\left[\\begin{matrix}x + 2y\\\\x\\end{matrix}\\right] = \\left[\\begin{matrix}\\lambda{x}\\\\\\lambda{y}\\end{matrix}\\right]\n",
    "$$"
   ]
  },
  {
   "cell_type": "markdown",
   "metadata": {},
   "source": [
    "Para satisfacer este sistema de ecuaciones se requiere de conceptos más detallados de algebra lineal."
   ]
  },
  {
   "cell_type": "markdown",
   "metadata": {},
   "source": [
    "En este caso se utilizará methodos de _numpy_ en _python_ para resolver este problema."
   ]
  },
  {
   "cell_type": "code",
   "execution_count": 14,
   "metadata": {},
   "outputs": [
    {
     "data": {
      "text/plain": [
       "(array([ 2., -1.]),\n",
       " array([[ 0.89442719, -0.70710678],\n",
       "        [ 0.4472136 ,  0.70710678]]))"
      ]
     },
     "execution_count": 14,
     "metadata": {},
     "output_type": "execute_result"
    }
   ],
   "source": [
    "A = np.array([[1,2],[1,0]])\n",
    "values, vectors = np.linalg.eig(A)\n",
    "values, vectors"
   ]
  },
  {
   "cell_type": "markdown",
   "metadata": {},
   "source": [
    "$$\n",
    "\\left[\\begin{matrix}\n",
    "2 \\\\ -1\n",
    "\\end{matrix}\\right]\n",
    "\\begin{cases}\n",
    "\\left[\\begin{matrix}x\\\\y\\end{matrix}\\right] =\n",
    "\\left[\\begin{matrix}0.89442719\\\\0.4472136\\end{matrix}\\right], \\lambda=2 \\\\\n",
    "\\left[\\begin{matrix}x\\\\y\\end{matrix}\\right] =\n",
    "\\left[\\begin{matrix}-0.70710678\\\\0.70710678\\end{matrix}\\right], \\lambda=-1\n",
    "\\end{cases}\n",
    "$$"
   ]
  },
  {
   "cell_type": "markdown",
   "metadata": {},
   "source": [
    "Para verificar que cada vector y su respectivo valor propio cumplen con la ecuación original se puede realizar una multiplicación de la matriz original y la primera fila de la transpuesta de la de su vectores."
   ]
  },
  {
   "cell_type": "markdown",
   "metadata": {},
   "source": [
    "$$ \\left[\\begin{matrix}1&2 \\\\ 1&0\\end{matrix}\\right]  · \\left[\\begin{matrix}0.89442719\\\\0.4472136\\end{matrix}\\right]^T$$"
   ]
  },
  {
   "cell_type": "code",
   "execution_count": 42,
   "metadata": {},
   "outputs": [
    {
     "name": "stdout",
     "output_type": "stream",
     "text": [
      "[ 0.70710678 -0.70710678]\n",
      "[ 0.70710678 -0.70710678]\n"
     ]
    }
   ],
   "source": [
    "print(np.matmul(A, vectors.T[1]))\n",
    "print((-1)*vectors.T[1])\n"
   ]
  },
  {
   "cell_type": "code",
   "execution_count": 40,
   "metadata": {},
   "outputs": [
    {
     "name": "stdout",
     "output_type": "stream",
     "text": [
      "[ 0.70710678 -0.70710678]\n"
     ]
    }
   ],
   "source": [
    "print(values[1]*vectors.T[1])"
   ]
  },
  {
   "cell_type": "code",
   "execution_count": 53,
   "metadata": {},
   "outputs": [
    {
     "data": {
      "text/plain": [
       "array([[ 1.78885438,  0.70710678],\n",
       "       [ 0.89442719, -0.70710678]])"
      ]
     },
     "execution_count": 53,
     "metadata": {},
     "output_type": "execute_result"
    }
   ],
   "source": [
    "np.matmul(A, vectors)"
   ]
  },
  {
   "cell_type": "markdown",
   "metadata": {},
   "source": [
    "El objetivo de esto es diagonalizar una matriz."
   ]
  },
  {
   "cell_type": "markdown",
   "metadata": {},
   "source": [
    "$$A=P·D·P^{-1}$$\n",
    "<p align='center'>\n",
    "Donde D es una matriz diagonal.\n",
    "</p>"
   ]
  },
  {
   "cell_type": "markdown",
   "metadata": {},
   "source": [
    "<p align='justify'>\n",
    "Lo importante de estudiar este procedimiento en nuestro curso, es que cuando aplicamos este cálculo de vectores y valores propios a una matriz de covarianza, los vectores representan las direcciones a lo largo de las cuales percibimos la mayor cantidad de varianza de ese conjunto de datos, donde la cantidad de varianza es proporcional al valor propio de cada vector propio.\n",
    "\n",
    "Y es importante tener en cuenta que este procedimiento aplica para un conjunto de datos con N variables al que le corresponde una matriz de covarianza de tamaño NxN.\n",
    "\n",
    "Ahora, el último factor importante de esta técnica es que para matrices de covarianza, sus vectores propios siempre son independientes unos de otros y esto es justamente lo que queremos en un proceso de reducción de variables, porque direcciones independientes implica que estos vectores representan nuevas variables cuya correlación es la más baja posible y así cada nueva variable es lo más representativa posible.\n",
    "\n",
    "En álgebra lineal se dice más precisamente que los vectores propios de una matriz de covarianza son ortogonales y esto quiere decir que el producto interno de cualquier par de estos vectores siempre da como resultado cero:\n",
    "</p>"
   ]
  },
  {
   "cell_type": "markdown",
   "metadata": {},
   "source": [
    "$$ \\vec{x}_i·\\vec{x}_j = 0 $$"
   ]
  }
 ],
 "metadata": {
  "interpreter": {
   "hash": "40045ba4287eb5f67feca55db0927d249762f6e31a023956f349261635c9fa11"
  },
  "kernelspec": {
   "display_name": "Python 3.10.2 ('ds')",
   "language": "python",
   "name": "python3"
  },
  "language_info": {
   "codemirror_mode": {
    "name": "ipython",
    "version": 3
   },
   "file_extension": ".py",
   "mimetype": "text/x-python",
   "name": "python",
   "nbconvert_exporter": "python",
   "pygments_lexer": "ipython3",
   "version": "3.10.2"
  },
  "orig_nbformat": 4
 },
 "nbformat": 4,
 "nbformat_minor": 2
}
