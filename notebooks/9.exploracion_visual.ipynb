{
 "cells": [
  {
   "cell_type": "markdown",
   "metadata": {},
   "source": [
    "## Visualización de datos\n",
    "-----------"
   ]
  },
  {
   "cell_type": "markdown",
   "metadata": {},
   "source": [
    "[DataVizProject](https://datavizproject.com/)"
   ]
  },
  {
   "cell_type": "code",
   "execution_count": 1,
   "metadata": {},
   "outputs": [],
   "source": [
    "# %%\n",
    "import numpy as np\n",
    "import pandas as pd\n",
    "import seaborn as sns\n",
    "# %%"
   ]
  },
  {
   "cell_type": "code",
   "execution_count": 2,
   "metadata": {},
   "outputs": [
    {
     "data": {
      "text/html": [
       "<div>\n",
       "<style scoped>\n",
       "    .dataframe tbody tr th:only-of-type {\n",
       "        vertical-align: middle;\n",
       "    }\n",
       "\n",
       "    .dataframe tbody tr th {\n",
       "        vertical-align: top;\n",
       "    }\n",
       "\n",
       "    .dataframe thead th {\n",
       "        text-align: right;\n",
       "    }\n",
       "</style>\n",
       "<table border=\"1\" class=\"dataframe\">\n",
       "  <thead>\n",
       "    <tr style=\"text-align: right;\">\n",
       "      <th></th>\n",
       "      <th>manufacturer_name</th>\n",
       "      <th>model_name</th>\n",
       "      <th>transmission</th>\n",
       "      <th>color</th>\n",
       "      <th>odometer_value</th>\n",
       "      <th>year_produced</th>\n",
       "      <th>engine_fuel</th>\n",
       "      <th>engine_has_gas</th>\n",
       "      <th>engine_type</th>\n",
       "      <th>engine_capacity</th>\n",
       "      <th>...</th>\n",
       "      <th>feature_1</th>\n",
       "      <th>feature_2</th>\n",
       "      <th>feature_3</th>\n",
       "      <th>feature_4</th>\n",
       "      <th>feature_5</th>\n",
       "      <th>feature_6</th>\n",
       "      <th>feature_7</th>\n",
       "      <th>feature_8</th>\n",
       "      <th>feature_9</th>\n",
       "      <th>duration_listed</th>\n",
       "    </tr>\n",
       "  </thead>\n",
       "  <tbody>\n",
       "    <tr>\n",
       "      <th>720</th>\n",
       "      <td>Dodge</td>\n",
       "      <td>Grand Caravan</td>\n",
       "      <td>automatic</td>\n",
       "      <td>silver</td>\n",
       "      <td>177028</td>\n",
       "      <td>2008</td>\n",
       "      <td>gas</td>\n",
       "      <td>True</td>\n",
       "      <td>gasoline</td>\n",
       "      <td>3.3</td>\n",
       "      <td>...</td>\n",
       "      <td>True</td>\n",
       "      <td>False</td>\n",
       "      <td>False</td>\n",
       "      <td>False</td>\n",
       "      <td>False</td>\n",
       "      <td>False</td>\n",
       "      <td>False</td>\n",
       "      <td>True</td>\n",
       "      <td>False</td>\n",
       "      <td>138</td>\n",
       "    </tr>\n",
       "    <tr>\n",
       "      <th>5445</th>\n",
       "      <td>Mitsubishi</td>\n",
       "      <td>Pajero</td>\n",
       "      <td>mechanical</td>\n",
       "      <td>green</td>\n",
       "      <td>400000</td>\n",
       "      <td>1999</td>\n",
       "      <td>gasoline</td>\n",
       "      <td>False</td>\n",
       "      <td>gasoline</td>\n",
       "      <td>3.0</td>\n",
       "      <td>...</td>\n",
       "      <td>False</td>\n",
       "      <td>False</td>\n",
       "      <td>False</td>\n",
       "      <td>True</td>\n",
       "      <td>True</td>\n",
       "      <td>False</td>\n",
       "      <td>False</td>\n",
       "      <td>False</td>\n",
       "      <td>False</td>\n",
       "      <td>241</td>\n",
       "    </tr>\n",
       "  </tbody>\n",
       "</table>\n",
       "<p>2 rows × 30 columns</p>\n",
       "</div>"
      ],
      "text/plain": [
       "     manufacturer_name     model_name transmission   color  odometer_value  \\\n",
       "720              Dodge  Grand Caravan    automatic  silver          177028   \n",
       "5445        Mitsubishi         Pajero   mechanical   green          400000   \n",
       "\n",
       "      year_produced engine_fuel  engine_has_gas engine_type  engine_capacity  \\\n",
       "720            2008         gas            True    gasoline              3.3   \n",
       "5445           1999    gasoline           False    gasoline              3.0   \n",
       "\n",
       "      ... feature_1  feature_2 feature_3 feature_4  feature_5  feature_6  \\\n",
       "720   ...      True      False     False     False      False      False   \n",
       "5445  ...     False      False     False      True       True      False   \n",
       "\n",
       "     feature_7  feature_8  feature_9  duration_listed  \n",
       "720      False       True      False              138  \n",
       "5445     False      False      False              241  \n",
       "\n",
       "[2 rows x 30 columns]"
      ]
     },
     "execution_count": 2,
     "metadata": {},
     "output_type": "execute_result"
    }
   ],
   "source": [
    "df = pd.read_csv(\"./resources/cars.csv\")\n",
    "df.sample(2)"
   ]
  },
  {
   "cell_type": "code",
   "execution_count": 14,
   "metadata": {},
   "outputs": [
    {
     "data": {
      "text/plain": [
       "manufacturer_name      55\n",
       "model_name           1118\n",
       "transmission            2\n",
       "color                  12\n",
       "odometer_value       6063\n",
       "year_produced          64\n",
       "engine_fuel             6\n",
       "engine_has_gas          2\n",
       "engine_type             3\n",
       "engine_capacity        61\n",
       "body_type              12\n",
       "has_warranty            2\n",
       "state                   3\n",
       "drivetrain              3\n",
       "price_usd            2677\n",
       "is_exchangeable         2\n",
       "location_region         6\n",
       "number_of_photos       61\n",
       "up_counter            384\n",
       "feature_0               2\n",
       "feature_1               2\n",
       "feature_2               2\n",
       "feature_3               2\n",
       "feature_4               2\n",
       "feature_5               2\n",
       "feature_6               2\n",
       "feature_7               2\n",
       "feature_8               2\n",
       "feature_9               2\n",
       "duration_listed       786\n",
       "dtype: int64"
      ]
     },
     "execution_count": 14,
     "metadata": {},
     "output_type": "execute_result"
    }
   ],
   "source": [
    "df.nunique()"
   ]
  },
  {
   "cell_type": "code",
   "execution_count": 11,
   "metadata": {},
   "outputs": [
    {
     "ename": "TypeError",
     "evalue": "regplot() got an unexpected keyword argument 'hue'",
     "output_type": "error",
     "traceback": [
      "\u001b[1;31m---------------------------------------------------------------------------\u001b[0m",
      "\u001b[1;31mTypeError\u001b[0m                                 Traceback (most recent call last)",
      "\u001b[1;32mc:\\Users\\Cesar\\Platzi\\estadistica-descriptiva\\notebooks\\9.exploracion_visual.ipynb Cell 6'\u001b[0m in \u001b[0;36m<module>\u001b[1;34m\u001b[0m\n\u001b[0;32m      <a href='vscode-notebook-cell:/c%3A/Users/Cesar/Platzi/estadistica-descriptiva/notebooks/9.exploracion_visual.ipynb#ch0000005?line=0'>1</a>\u001b[0m g \u001b[39m=\u001b[39m sns\u001b[39m.\u001b[39mFacetGrid(data\u001b[39m=\u001b[39mdf, row \u001b[39m=\u001b[39m\u001b[39m'\u001b[39m\u001b[39mlocation_region\u001b[39m\u001b[39m'\u001b[39m, col \u001b[39m=\u001b[39m \u001b[39m'\u001b[39m\u001b[39mtransmission\u001b[39m\u001b[39m'\u001b[39m,  height\u001b[39m=\u001b[39m\u001b[39m3\u001b[39m, aspect \u001b[39m=\u001b[39m \u001b[39m2\u001b[39m)\n\u001b[1;32m----> <a href='vscode-notebook-cell:/c%3A/Users/Cesar/Platzi/estadistica-descriptiva/notebooks/9.exploracion_visual.ipynb#ch0000005?line=1'>2</a>\u001b[0m g\u001b[39m.\u001b[39;49mmap(sns\u001b[39m.\u001b[39;49mregplot, \u001b[39m'\u001b[39;49m\u001b[39myear_produced\u001b[39;49m\u001b[39m'\u001b[39;49m,\u001b[39m'\u001b[39;49m\u001b[39mprice_usd\u001b[39;49m\u001b[39m'\u001b[39;49m, hue\u001b[39m=\u001b[39;49m\u001b[39m'\u001b[39;49m\u001b[39mcolor\u001b[39;49m\u001b[39m'\u001b[39;49m)\n",
      "File \u001b[1;32m~\\anaconda3\\envs\\ds\\lib\\site-packages\\seaborn\\axisgrid.py:710\u001b[0m, in \u001b[0;36mFacetGrid.map\u001b[1;34m(self, func, *args, **kwargs)\u001b[0m\n\u001b[0;32m    <a href='file:///~/anaconda3/envs/ds/lib/site-packages/seaborn/axisgrid.py?line=706'>707</a>\u001b[0m         plot_args \u001b[39m=\u001b[39m [v\u001b[39m.\u001b[39mvalues \u001b[39mfor\u001b[39;00m v \u001b[39min\u001b[39;00m plot_args]\n\u001b[0;32m    <a href='file:///~/anaconda3/envs/ds/lib/site-packages/seaborn/axisgrid.py?line=708'>709</a>\u001b[0m     \u001b[39m# Draw the plot\u001b[39;00m\n\u001b[1;32m--> <a href='file:///~/anaconda3/envs/ds/lib/site-packages/seaborn/axisgrid.py?line=709'>710</a>\u001b[0m     \u001b[39mself\u001b[39;49m\u001b[39m.\u001b[39;49m_facet_plot(func, ax, plot_args, kwargs)\n\u001b[0;32m    <a href='file:///~/anaconda3/envs/ds/lib/site-packages/seaborn/axisgrid.py?line=711'>712</a>\u001b[0m \u001b[39m# Finalize the annotations and layout\u001b[39;00m\n\u001b[0;32m    <a href='file:///~/anaconda3/envs/ds/lib/site-packages/seaborn/axisgrid.py?line=712'>713</a>\u001b[0m \u001b[39mself\u001b[39m\u001b[39m.\u001b[39m_finalize_grid(args[:\u001b[39m2\u001b[39m])\n",
      "File \u001b[1;32m~\\anaconda3\\envs\\ds\\lib\\site-packages\\seaborn\\axisgrid.py:806\u001b[0m, in \u001b[0;36mFacetGrid._facet_plot\u001b[1;34m(self, func, ax, plot_args, plot_kwargs)\u001b[0m\n\u001b[0;32m    <a href='file:///~/anaconda3/envs/ds/lib/site-packages/seaborn/axisgrid.py?line=803'>804</a>\u001b[0m     plot_args \u001b[39m=\u001b[39m []\n\u001b[0;32m    <a href='file:///~/anaconda3/envs/ds/lib/site-packages/seaborn/axisgrid.py?line=804'>805</a>\u001b[0m     plot_kwargs[\u001b[39m\"\u001b[39m\u001b[39max\u001b[39m\u001b[39m\"\u001b[39m] \u001b[39m=\u001b[39m ax\n\u001b[1;32m--> <a href='file:///~/anaconda3/envs/ds/lib/site-packages/seaborn/axisgrid.py?line=805'>806</a>\u001b[0m func(\u001b[39m*\u001b[39mplot_args, \u001b[39m*\u001b[39m\u001b[39m*\u001b[39mplot_kwargs)\n\u001b[0;32m    <a href='file:///~/anaconda3/envs/ds/lib/site-packages/seaborn/axisgrid.py?line=807'>808</a>\u001b[0m \u001b[39m# Sort out the supporting information\u001b[39;00m\n\u001b[0;32m    <a href='file:///~/anaconda3/envs/ds/lib/site-packages/seaborn/axisgrid.py?line=808'>809</a>\u001b[0m \u001b[39mself\u001b[39m\u001b[39m.\u001b[39m_update_legend_data(ax)\n",
      "File \u001b[1;32m~\\anaconda3\\envs\\ds\\lib\\site-packages\\seaborn\\_decorators.py:46\u001b[0m, in \u001b[0;36m_deprecate_positional_args.<locals>.inner_f\u001b[1;34m(*args, **kwargs)\u001b[0m\n\u001b[0;32m     <a href='file:///~/anaconda3/envs/ds/lib/site-packages/seaborn/_decorators.py?line=35'>36</a>\u001b[0m     warnings\u001b[39m.\u001b[39mwarn(\n\u001b[0;32m     <a href='file:///~/anaconda3/envs/ds/lib/site-packages/seaborn/_decorators.py?line=36'>37</a>\u001b[0m         \u001b[39m\"\u001b[39m\u001b[39mPass the following variable\u001b[39m\u001b[39m{}\u001b[39;00m\u001b[39m as \u001b[39m\u001b[39m{}\u001b[39;00m\u001b[39mkeyword arg\u001b[39m\u001b[39m{}\u001b[39;00m\u001b[39m: \u001b[39m\u001b[39m{}\u001b[39;00m\u001b[39m. \u001b[39m\u001b[39m\"\u001b[39m\n\u001b[0;32m     <a href='file:///~/anaconda3/envs/ds/lib/site-packages/seaborn/_decorators.py?line=37'>38</a>\u001b[0m         \u001b[39m\"\u001b[39m\u001b[39mFrom version 0.12, the only valid positional argument \u001b[39m\u001b[39m\"\u001b[39m\n\u001b[1;32m   (...)\u001b[0m\n\u001b[0;32m     <a href='file:///~/anaconda3/envs/ds/lib/site-packages/seaborn/_decorators.py?line=42'>43</a>\u001b[0m         \u001b[39mFutureWarning\u001b[39;00m\n\u001b[0;32m     <a href='file:///~/anaconda3/envs/ds/lib/site-packages/seaborn/_decorators.py?line=43'>44</a>\u001b[0m     )\n\u001b[0;32m     <a href='file:///~/anaconda3/envs/ds/lib/site-packages/seaborn/_decorators.py?line=44'>45</a>\u001b[0m kwargs\u001b[39m.\u001b[39mupdate({k: arg \u001b[39mfor\u001b[39;00m k, arg \u001b[39min\u001b[39;00m \u001b[39mzip\u001b[39m(sig\u001b[39m.\u001b[39mparameters, args)})\n\u001b[1;32m---> <a href='file:///~/anaconda3/envs/ds/lib/site-packages/seaborn/_decorators.py?line=45'>46</a>\u001b[0m \u001b[39mreturn\u001b[39;00m f(\u001b[39m*\u001b[39m\u001b[39m*\u001b[39mkwargs)\n",
      "\u001b[1;31mTypeError\u001b[0m: regplot() got an unexpected keyword argument 'hue'"
     ]
    },
    {
     "data": {
      "image/png": "[encoded data removed]",
      "text/plain": [
       "<Figure size 864x1296 with 12 Axes>"
      ]
     },
     "metadata": {
      "needs_background": "light"
     },
     "output_type": "display_data"
    }
   ],
   "source": [
    "g = sns.FacetGrid(data=df, row ='location_region', col = 'transmission',  height=3, aspect = 2)\n",
    "g.map(sns.regplot, 'year_produced','price_usd', hue='color')"
   ]
  }
 ],
 "metadata": {
  "interpreter": {
   "hash": "40045ba4287eb5f67feca55db0927d249762f6e31a023956f349261635c9fa11"
  },
  "kernelspec": {
   "display_name": "Python 3.10.2 ('ds')",
   "language": "python",
   "name": "python3"
  },
  "language_info": {
   "codemirror_mode": {
    "name": "ipython",
    "version": 3
   },
   "file_extension": ".py",
   "mimetype": "text/x-python",
   "name": "python",
   "nbconvert_exporter": "python",
   "pygments_lexer": "ipython3",
   "version": "3.10.2"
  },
  "orig_nbformat": 4
 },
 "nbformat": 4,
 "nbformat_minor": 2
}
