{
 "cells": [
  {
   "cell_type": "markdown",
   "metadata": {},
   "source": [
    "## Medidas de tendencia central\n",
    "---------"
   ]
  },
  {
   "cell_type": "markdown",
   "metadata": {},
   "source": [
    "Mas importantes:\n",
    "- Media (o promedio)\n",
    "- Mediana (dato central)\n",
    "- Moda (dato que más se repite)"
   ]
  },
  {
   "cell_type": "markdown",
   "metadata": {},
   "source": [
    "> #### **Como dato curioso e interesante**:\n",
    "> No solo existen esas medidas de tendencias central, hay otras más poco conocidas, pero las abordaremos ahora mismo:\n",
    "\n",
    "> - **Media ponderada**: es una medida de tendencia central, que es apropiada cuando en un conjunto de datos cada uno de ellos tiene una importancia relativa (o peso) respecto de los demás datos. Se obtiene multiplicando cada uno de los datos por su ponderación (peso) para luego sumarlos, obteniendo así una suma ponderada; después se divide esta entre la suma de los pesos, dando como resultado la media ponderada.\n",
    "> - **Media armónica**: La media armónica es igual al número de elementos de un grupo de cifras entre la suma de los inversos de cada una de estas cifras.\n",
    "En otras palabras, la media armónica es una medida estadística recíproca a la media aritmética, que es la suma de un conjunto de valores entre el número de observaciones.\n",
    "> - **Media geométrica**: es una cantidad arbitraria de números (por decir n números) es la raíz n-ésima del producto de todos los números; es recomendada para datos de progresión geométrica, para promediar razones, interés compuesto y números índice."
   ]
  },
  {
   "cell_type": "markdown",
   "metadata": {},
   "source": [
    "### Fórmulas\n",
    "--------------"
   ]
  },
  {
   "cell_type": "markdown",
   "metadata": {},
   "source": [
    "Medias:"
   ]
  },
  {
   "cell_type": "markdown",
   "metadata": {},
   "source": [
    "| Media Poblacional | Media Muestral | \n",
    "|-|-|\n",
    "| $$ µ = \\frac{\\sum{}x_N}{N} $$ | $$ µ = \\frac{\\sum{}x_n}{n} $$ |"
   ]
  },
  {
   "cell_type": "markdown",
   "metadata": {},
   "source": [
    "+ *Donde:*\n",
    "  - *N: tamaño de la población*\n",
    "  - *n: tamaño de la muestra*"
   ]
  },
  {
   "cell_type": "markdown",
   "metadata": {},
   "source": [
    "##### **Datos agrupados**"
   ]
  },
  {
   "cell_type": "markdown",
   "metadata": {},
   "source": [
    "Media: \n",
    "\n",
    "| $$ \\sum_{i=0}^{n}\\frac{X_if_i}{n} $$ |\n",
    "|-|\n",
    "\n",
    "+ *Donde :*\n",
    "    - *f<sub>i</sub> : frecuencia absoluta*\n",
    "    - *X<sub>i</sub> : Marca de clase*"
   ]
  },
  {
   "cell_type": "markdown",
   "metadata": {},
   "source": [
    "Percentil:\n",
    "| $$ P_k = L_i + \\frac{1}{f_i}\\left(\\frac{k}{100} N - f_a\\right) $$ |\n",
    "|-|"
   ]
  },
  {
   "cell_type": "markdown",
   "metadata": {},
   "source": [
    "+ *Donde :*\n",
    "    - *L<sub>i</sub> : limite percentil inferior*\n",
    "    - *f<sub>i</sub> : frecuencia absoluta del centil*"
   ]
  }
 ],
 "metadata": {
  "language_info": {
   "name": "python"
  },
  "orig_nbformat": 4
 },
 "nbformat": 4,
 "nbformat_minor": 2
}
